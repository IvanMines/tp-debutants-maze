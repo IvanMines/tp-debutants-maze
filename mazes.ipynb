{
 "cells": [
  {
   "cell_type": "code",
   "execution_count": 3,
   "id": "5806869f",
   "metadata": {},
   "outputs": [],
   "source": [
    "# %%\n",
    "# Python standard library\n",
    "import math\n",
    "import random\n",
    "\n",
    "# custom utils\n",
    "from utils import display_maze\n",
    "from examples.dense_maze_4x3 import maze"
   ]
  },
  {
   "cell_type": "code",
   "execution_count": 4,
   "id": "62c5e237",
   "metadata": {},
   "outputs": [
    {
     "ename": "NameError",
     "evalue": "name 'full_maze' is not defined",
     "output_type": "error",
     "traceback": [
      "\u001b[1;31m---------------------------------------------------------------------------\u001b[0m",
      "\u001b[1;31mNameError\u001b[0m                                 Traceback (most recent call last)",
      "\u001b[1;32m~\\AppData\\Local\\Temp/ipykernel_15108/2237744483.py\u001b[0m in \u001b[0;36m<module>\u001b[1;34m\u001b[0m\n\u001b[0;32m      1\u001b[0m \u001b[1;31m# Votre code ici !\u001b[0m\u001b[1;33m\u001b[0m\u001b[1;33m\u001b[0m\u001b[0m\n\u001b[0;32m      2\u001b[0m \u001b[1;33m\u001b[0m\u001b[0m\n\u001b[1;32m----> 3\u001b[1;33m \u001b[0mmaze\u001b[0m \u001b[1;33m=\u001b[0m \u001b[0mfull_maze\u001b[0m\u001b[1;33m(\u001b[0m\u001b[1;36m50\u001b[0m\u001b[1;33m,\u001b[0m \u001b[1;36m25\u001b[0m\u001b[1;33m)\u001b[0m\u001b[1;33m\u001b[0m\u001b[1;33m\u001b[0m\u001b[0m\n\u001b[0m\u001b[0;32m      4\u001b[0m \u001b[0mdisplay_maze\u001b[0m\u001b[1;33m(\u001b[0m\u001b[0mmaze\u001b[0m\u001b[1;33m)\u001b[0m\u001b[1;33m\u001b[0m\u001b[1;33m\u001b[0m\u001b[0m\n",
      "\u001b[1;31mNameError\u001b[0m: name 'full_maze' is not defined"
     ]
    }
   ],
   "source": [
    "# Votre code ici !\n",
    "\n",
    "vertices = set((0,0),(0,1))\n",
    "edges = set(\n",
    "    ((0,0),(0,1)),\n",
    "    ((0,1),(0,0)))\n",
    "weights = {\n",
    "    ((0,0),(0,1)) : 1,\n",
    "    ((0,1),(0,0)) : 1\n",
    " }\n",
    "\n",
    "display_maze((vertices, edges, weights))"
   ]
  }
 ],
 "metadata": {
  "interpreter": {
   "hash": "7984d38938083d82578bfb369e8e1458bb0ca14358cd3349ae3f6ff80342b716"
  },
  "kernelspec": {
   "display_name": "Python 3.9.7 64-bit ('mazes': conda)",
   "name": "python3"
  },
  "language_info": {
   "codemirror_mode": {
    "name": "ipython",
    "version": 3
   },
   "file_extension": ".py",
   "mimetype": "text/x-python",
   "name": "python",
   "nbconvert_exporter": "python",
   "pygments_lexer": "ipython3",
   "version": "3.9.7"
  }
 },
 "nbformat": 4,
 "nbformat_minor": 5
}
